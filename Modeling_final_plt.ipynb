{
  "nbformat": 4,
  "nbformat_minor": 0,
  "metadata": {
    "kernelspec": {
      "display_name": "Python 3",
      "language": "python",
      "name": "python3"
    },
    "language_info": {
      "codemirror_mode": {
        "name": "ipython",
        "version": 3
      },
      "file_extension": ".py",
      "mimetype": "text/x-python",
      "name": "python",
      "nbconvert_exporter": "python",
      "pygments_lexer": "ipython3",
      "version": "3.7.3"
    },
    "colab": {
      "name": "Modeling_final_plt.ipynb",
      "provenance": []
    }
  },
  "cells": [
    {
      "cell_type": "code",
      "metadata": {
        "id": "JwBZF8eTlrhA",
        "colab_type": "code",
        "colab": {}
      },
      "source": [
        "import numpy as np\n",
        "import pandas as pd\n",
        "import matplotlib.pyplot as plt\n",
        "from sklearn.linear_model import LassoCV\n",
        "from sklearn.linear_model import LogisticRegressionCV\n",
        "from sklearn.model_selection import train_test_split\n",
        "from sklearn.base import BaseEstimator, ClassifierMixin\n",
        "from sklearn.metrics import confusion_matrix, classification_report\n",
        "import random\n",
        "from tqdm import tqdm, tqdm_notebook\n",
        "from scipy import stats\n",
        "from sklearn.metrics import accuracy_score\n",
        "import sklearn.metrics as metrics"
      ],
      "execution_count": 0,
      "outputs": []
    },
    {
      "cell_type": "code",
      "metadata": {
        "id": "L-UV1EHplrhG",
        "colab_type": "code",
        "colab": {},
        "outputId": "c941d307-7477-4c44-a445-8104b60e557a"
      },
      "source": [
        "df = pd.read_csv('ftable.csv')\n",
        "df = df.iloc[:,3:]\n",
        "df.head()\n",
        "df.describe()"
      ],
      "execution_count": 0,
      "outputs": [
        {
          "output_type": "execute_result",
          "data": {
            "text/html": [
              "<div>\n",
              "<style scoped>\n",
              "    .dataframe tbody tr th:only-of-type {\n",
              "        vertical-align: middle;\n",
              "    }\n",
              "\n",
              "    .dataframe tbody tr th {\n",
              "        vertical-align: top;\n",
              "    }\n",
              "\n",
              "    .dataframe thead th {\n",
              "        text-align: right;\n",
              "    }\n",
              "</style>\n",
              "<table border=\"1\" class=\"dataframe\">\n",
              "  <thead>\n",
              "    <tr style=\"text-align: right;\">\n",
              "      <th></th>\n",
              "      <th>los</th>\n",
              "      <th>gender</th>\n",
              "      <th>age</th>\n",
              "      <th>age65</th>\n",
              "      <th>major_s</th>\n",
              "      <th>minor_s</th>\n",
              "      <th>fever</th>\n",
              "      <th>anti_use</th>\n",
              "      <th>cepha_use</th>\n",
              "      <th>clinda_use</th>\n",
              "      <th>penic_use</th>\n",
              "      <th>quino_use</th>\n",
              "      <th>ppi_use</th>\n",
              "      <th>steroid_use</th>\n",
              "      <th>crrt_p</th>\n",
              "      <th>venti</th>\n",
              "      <th>gi_tube</th>\n",
              "      <th>ibd_p</th>\n",
              "      <th>elixhauser_vanwalraven</th>\n",
              "      <th>cdiff_p</th>\n",
              "    </tr>\n",
              "  </thead>\n",
              "  <tbody>\n",
              "    <tr>\n",
              "      <th>count</th>\n",
              "      <td>50016.000000</td>\n",
              "      <td>50016.000000</td>\n",
              "      <td>50016.000000</td>\n",
              "      <td>50016.000000</td>\n",
              "      <td>50016.000000</td>\n",
              "      <td>50016.000000</td>\n",
              "      <td>50016.000000</td>\n",
              "      <td>50016.000000</td>\n",
              "      <td>50016.000000</td>\n",
              "      <td>50016.000000</td>\n",
              "      <td>50016.000000</td>\n",
              "      <td>50016.000000</td>\n",
              "      <td>50016.000000</td>\n",
              "      <td>50016.000000</td>\n",
              "      <td>50016.000000</td>\n",
              "      <td>50016.000000</td>\n",
              "      <td>50016.000000</td>\n",
              "      <td>50016.000000</td>\n",
              "      <td>50016.000000</td>\n",
              "      <td>50016.000000</td>\n",
              "    </tr>\n",
              "    <tr>\n",
              "      <th>mean</th>\n",
              "      <td>4.543126</td>\n",
              "      <td>0.438180</td>\n",
              "      <td>62.195868</td>\n",
              "      <td>0.469370</td>\n",
              "      <td>0.175844</td>\n",
              "      <td>0.200496</td>\n",
              "      <td>0.103807</td>\n",
              "      <td>0.335693</td>\n",
              "      <td>0.160109</td>\n",
              "      <td>0.023433</td>\n",
              "      <td>0.040987</td>\n",
              "      <td>0.216791</td>\n",
              "      <td>0.490343</td>\n",
              "      <td>0.179203</td>\n",
              "      <td>0.017714</td>\n",
              "      <td>0.465611</td>\n",
              "      <td>0.451076</td>\n",
              "      <td>0.013456</td>\n",
              "      <td>5.728827</td>\n",
              "      <td>0.012076</td>\n",
              "    </tr>\n",
              "    <tr>\n",
              "      <th>std</th>\n",
              "      <td>6.966122</td>\n",
              "      <td>0.496169</td>\n",
              "      <td>16.674586</td>\n",
              "      <td>0.499066</td>\n",
              "      <td>0.380691</td>\n",
              "      <td>0.400375</td>\n",
              "      <td>0.305013</td>\n",
              "      <td>0.472237</td>\n",
              "      <td>0.366711</td>\n",
              "      <td>0.151274</td>\n",
              "      <td>0.198262</td>\n",
              "      <td>0.412063</td>\n",
              "      <td>0.499912</td>\n",
              "      <td>0.383526</td>\n",
              "      <td>0.131912</td>\n",
              "      <td>0.498821</td>\n",
              "      <td>0.497606</td>\n",
              "      <td>0.115217</td>\n",
              "      <td>7.120388</td>\n",
              "      <td>0.109227</td>\n",
              "    </tr>\n",
              "    <tr>\n",
              "      <th>min</th>\n",
              "      <td>0.000000</td>\n",
              "      <td>0.000000</td>\n",
              "      <td>0.000000</td>\n",
              "      <td>0.000000</td>\n",
              "      <td>0.000000</td>\n",
              "      <td>0.000000</td>\n",
              "      <td>0.000000</td>\n",
              "      <td>0.000000</td>\n",
              "      <td>0.000000</td>\n",
              "      <td>0.000000</td>\n",
              "      <td>0.000000</td>\n",
              "      <td>0.000000</td>\n",
              "      <td>0.000000</td>\n",
              "      <td>0.000000</td>\n",
              "      <td>0.000000</td>\n",
              "      <td>0.000000</td>\n",
              "      <td>0.000000</td>\n",
              "      <td>0.000000</td>\n",
              "      <td>-16.000000</td>\n",
              "      <td>0.000000</td>\n",
              "    </tr>\n",
              "    <tr>\n",
              "      <th>25%</th>\n",
              "      <td>1.000000</td>\n",
              "      <td>0.000000</td>\n",
              "      <td>52.000000</td>\n",
              "      <td>0.000000</td>\n",
              "      <td>0.000000</td>\n",
              "      <td>0.000000</td>\n",
              "      <td>0.000000</td>\n",
              "      <td>0.000000</td>\n",
              "      <td>0.000000</td>\n",
              "      <td>0.000000</td>\n",
              "      <td>0.000000</td>\n",
              "      <td>0.000000</td>\n",
              "      <td>0.000000</td>\n",
              "      <td>0.000000</td>\n",
              "      <td>0.000000</td>\n",
              "      <td>0.000000</td>\n",
              "      <td>0.000000</td>\n",
              "      <td>0.000000</td>\n",
              "      <td>0.000000</td>\n",
              "      <td>0.000000</td>\n",
              "    </tr>\n",
              "    <tr>\n",
              "      <th>50%</th>\n",
              "      <td>2.000000</td>\n",
              "      <td>0.000000</td>\n",
              "      <td>63.000000</td>\n",
              "      <td>0.000000</td>\n",
              "      <td>0.000000</td>\n",
              "      <td>0.000000</td>\n",
              "      <td>0.000000</td>\n",
              "      <td>0.000000</td>\n",
              "      <td>0.000000</td>\n",
              "      <td>0.000000</td>\n",
              "      <td>0.000000</td>\n",
              "      <td>0.000000</td>\n",
              "      <td>0.000000</td>\n",
              "      <td>0.000000</td>\n",
              "      <td>0.000000</td>\n",
              "      <td>0.000000</td>\n",
              "      <td>0.000000</td>\n",
              "      <td>0.000000</td>\n",
              "      <td>4.000000</td>\n",
              "      <td>0.000000</td>\n",
              "    </tr>\n",
              "    <tr>\n",
              "      <th>75%</th>\n",
              "      <td>5.000000</td>\n",
              "      <td>1.000000</td>\n",
              "      <td>75.000000</td>\n",
              "      <td>1.000000</td>\n",
              "      <td>0.000000</td>\n",
              "      <td>0.000000</td>\n",
              "      <td>0.000000</td>\n",
              "      <td>1.000000</td>\n",
              "      <td>0.000000</td>\n",
              "      <td>0.000000</td>\n",
              "      <td>0.000000</td>\n",
              "      <td>0.000000</td>\n",
              "      <td>1.000000</td>\n",
              "      <td>0.000000</td>\n",
              "      <td>0.000000</td>\n",
              "      <td>1.000000</td>\n",
              "      <td>1.000000</td>\n",
              "      <td>0.000000</td>\n",
              "      <td>10.000000</td>\n",
              "      <td>0.000000</td>\n",
              "    </tr>\n",
              "    <tr>\n",
              "      <th>max</th>\n",
              "      <td>169.000000</td>\n",
              "      <td>1.000000</td>\n",
              "      <td>89.000000</td>\n",
              "      <td>1.000000</td>\n",
              "      <td>1.000000</td>\n",
              "      <td>1.000000</td>\n",
              "      <td>1.000000</td>\n",
              "      <td>1.000000</td>\n",
              "      <td>1.000000</td>\n",
              "      <td>1.000000</td>\n",
              "      <td>1.000000</td>\n",
              "      <td>1.000000</td>\n",
              "      <td>1.000000</td>\n",
              "      <td>1.000000</td>\n",
              "      <td>1.000000</td>\n",
              "      <td>1.000000</td>\n",
              "      <td>1.000000</td>\n",
              "      <td>1.000000</td>\n",
              "      <td>50.000000</td>\n",
              "      <td>1.000000</td>\n",
              "    </tr>\n",
              "  </tbody>\n",
              "</table>\n",
              "</div>"
            ],
            "text/plain": [
              "                los        gender           age         age65       major_s  \\\n",
              "count  50016.000000  50016.000000  50016.000000  50016.000000  50016.000000   \n",
              "mean       4.543126      0.438180     62.195868      0.469370      0.175844   \n",
              "std        6.966122      0.496169     16.674586      0.499066      0.380691   \n",
              "min        0.000000      0.000000      0.000000      0.000000      0.000000   \n",
              "25%        1.000000      0.000000     52.000000      0.000000      0.000000   \n",
              "50%        2.000000      0.000000     63.000000      0.000000      0.000000   \n",
              "75%        5.000000      1.000000     75.000000      1.000000      0.000000   \n",
              "max      169.000000      1.000000     89.000000      1.000000      1.000000   \n",
              "\n",
              "            minor_s         fever      anti_use     cepha_use    clinda_use  \\\n",
              "count  50016.000000  50016.000000  50016.000000  50016.000000  50016.000000   \n",
              "mean       0.200496      0.103807      0.335693      0.160109      0.023433   \n",
              "std        0.400375      0.305013      0.472237      0.366711      0.151274   \n",
              "min        0.000000      0.000000      0.000000      0.000000      0.000000   \n",
              "25%        0.000000      0.000000      0.000000      0.000000      0.000000   \n",
              "50%        0.000000      0.000000      0.000000      0.000000      0.000000   \n",
              "75%        0.000000      0.000000      1.000000      0.000000      0.000000   \n",
              "max        1.000000      1.000000      1.000000      1.000000      1.000000   \n",
              "\n",
              "          penic_use     quino_use       ppi_use   steroid_use        crrt_p  \\\n",
              "count  50016.000000  50016.000000  50016.000000  50016.000000  50016.000000   \n",
              "mean       0.040987      0.216791      0.490343      0.179203      0.017714   \n",
              "std        0.198262      0.412063      0.499912      0.383526      0.131912   \n",
              "min        0.000000      0.000000      0.000000      0.000000      0.000000   \n",
              "25%        0.000000      0.000000      0.000000      0.000000      0.000000   \n",
              "50%        0.000000      0.000000      0.000000      0.000000      0.000000   \n",
              "75%        0.000000      0.000000      1.000000      0.000000      0.000000   \n",
              "max        1.000000      1.000000      1.000000      1.000000      1.000000   \n",
              "\n",
              "              venti       gi_tube         ibd_p  elixhauser_vanwalraven  \\\n",
              "count  50016.000000  50016.000000  50016.000000            50016.000000   \n",
              "mean       0.465611      0.451076      0.013456                5.728827   \n",
              "std        0.498821      0.497606      0.115217                7.120388   \n",
              "min        0.000000      0.000000      0.000000              -16.000000   \n",
              "25%        0.000000      0.000000      0.000000                0.000000   \n",
              "50%        0.000000      0.000000      0.000000                4.000000   \n",
              "75%        1.000000      1.000000      0.000000               10.000000   \n",
              "max        1.000000      1.000000      1.000000               50.000000   \n",
              "\n",
              "            cdiff_p  \n",
              "count  50016.000000  \n",
              "mean       0.012076  \n",
              "std        0.109227  \n",
              "min        0.000000  \n",
              "25%        0.000000  \n",
              "50%        0.000000  \n",
              "75%        0.000000  \n",
              "max        1.000000  "
            ]
          },
          "metadata": {
            "tags": []
          },
          "execution_count": 123
        }
      ]
    },
    {
      "cell_type": "markdown",
      "metadata": {
        "id": "wwWiWcK9u9Zz",
        "colab_type": "text"
      },
      "source": [
        "All features was obtained from structured data in MIMICIII except major_s and minor_s. Symptoms were extracted from progress notes using NimbleMinner (word embedding models and positive only labels learning). major_s is defined as having diarrhea while minor_s abdominal cramping pain, nausea, or anorexia. If any of those ever occured in the notes, the major_s or minor_s is recorded as positive (binomial). "
      ]
    },
    {
      "cell_type": "code",
      "metadata": {
        "id": "LeCjQ21YlrhL",
        "colab_type": "code",
        "colab": {}
      },
      "source": [
        "#Drop ICU stay shorter then 24 hrs.\n",
        "df = df.drop(df.index[df.los==0])\n",
        "df[df.los==0]\n",
        "df.to_csv('refined.csv')"
      ],
      "execution_count": 0,
      "outputs": []
    },
    {
      "cell_type": "code",
      "metadata": {
        "id": "x6dhBpXzlrhO",
        "colab_type": "code",
        "colab": {},
        "outputId": "d5041d44-061a-4980-dead-aec3768559e5"
      },
      "source": [
        "import seaborn as sns\n",
        "print(df.groupby('cdiff_p').size())\n",
        "sns.countplot(x=\"cdiff_p\", data=df)\n",
        "# 604 out of 43995 were diagnosed of cdi"
      ],
      "execution_count": 0,
      "outputs": [
        {
          "output_type": "stream",
          "text": [
            "cdiff_p\n",
            "0    43995\n",
            "1      604\n",
            "dtype: int64\n"
          ],
          "name": "stdout"
        },
        {
          "output_type": "execute_result",
          "data": {
            "text/plain": [
              "<matplotlib.axes._subplots.AxesSubplot at 0x1a23bca978>"
            ]
          },
          "metadata": {
            "tags": []
          },
          "execution_count": 125
        },
        {
          "output_type": "display_data",
          "data": {
            "image/png": "[encoded data removed]",
            "text/plain": [
              "<Figure size 432x288 with 1 Axes>"
            ]
          },
          "metadata": {
            "tags": [],
            "needs_background": "light"
          }
        }
      ]
    },
    {
      "cell_type": "code",
      "metadata": {
        "id": "EBdX-gIHlrhR",
        "colab_type": "code",
        "colab": {},
        "outputId": "72d4cc35-b809-4608-c47a-2da2439e6c4a"
      },
      "source": [
        "# df without symptoms\n",
        "df_nos = df.drop(['major_s','minor_s'], axis=1)\n",
        "#df_nos = df[['major_s','minor_s','cdiff_p']]\n",
        "df_nos.head()"
      ],
      "execution_count": 0,
      "outputs": [
        {
          "output_type": "execute_result",
          "data": {
            "text/html": [
              "<div>\n",
              "<style scoped>\n",
              "    .dataframe tbody tr th:only-of-type {\n",
              "        vertical-align: middle;\n",
              "    }\n",
              "\n",
              "    .dataframe tbody tr th {\n",
              "        vertical-align: top;\n",
              "    }\n",
              "\n",
              "    .dataframe thead th {\n",
              "        text-align: right;\n",
              "    }\n",
              "</style>\n",
              "<table border=\"1\" class=\"dataframe\">\n",
              "  <thead>\n",
              "    <tr style=\"text-align: right;\">\n",
              "      <th></th>\n",
              "      <th>los</th>\n",
              "      <th>gender</th>\n",
              "      <th>age</th>\n",
              "      <th>age65</th>\n",
              "      <th>fever</th>\n",
              "      <th>anti_use</th>\n",
              "      <th>cepha_use</th>\n",
              "      <th>clinda_use</th>\n",
              "      <th>penic_use</th>\n",
              "      <th>quino_use</th>\n",
              "      <th>ppi_use</th>\n",
              "      <th>steroid_use</th>\n",
              "      <th>crrt_p</th>\n",
              "      <th>venti</th>\n",
              "      <th>gi_tube</th>\n",
              "      <th>ibd_p</th>\n",
              "      <th>elixhauser_vanwalraven</th>\n",
              "      <th>cdiff_p</th>\n",
              "    </tr>\n",
              "  </thead>\n",
              "  <tbody>\n",
              "    <tr>\n",
              "      <th>0</th>\n",
              "      <td>2.0</td>\n",
              "      <td>1</td>\n",
              "      <td>54.0</td>\n",
              "      <td>0</td>\n",
              "      <td>0</td>\n",
              "      <td>0</td>\n",
              "      <td>0.0</td>\n",
              "      <td>0.0</td>\n",
              "      <td>0.0</td>\n",
              "      <td>0.0</td>\n",
              "      <td>0.0</td>\n",
              "      <td>0.0</td>\n",
              "      <td>0</td>\n",
              "      <td>0</td>\n",
              "      <td>0.0</td>\n",
              "      <td>0.0</td>\n",
              "      <td>5</td>\n",
              "      <td>0</td>\n",
              "    </tr>\n",
              "    <tr>\n",
              "      <th>1</th>\n",
              "      <td>11.0</td>\n",
              "      <td>0</td>\n",
              "      <td>21.0</td>\n",
              "      <td>0</td>\n",
              "      <td>0</td>\n",
              "      <td>1</td>\n",
              "      <td>1.0</td>\n",
              "      <td>0.0</td>\n",
              "      <td>0.0</td>\n",
              "      <td>1.0</td>\n",
              "      <td>0.0</td>\n",
              "      <td>0.0</td>\n",
              "      <td>0</td>\n",
              "      <td>1</td>\n",
              "      <td>1.0</td>\n",
              "      <td>0.0</td>\n",
              "      <td>-7</td>\n",
              "      <td>0</td>\n",
              "    </tr>\n",
              "    <tr>\n",
              "      <th>2</th>\n",
              "      <td>4.0</td>\n",
              "      <td>0</td>\n",
              "      <td>55.0</td>\n",
              "      <td>0</td>\n",
              "      <td>0</td>\n",
              "      <td>0</td>\n",
              "      <td>0.0</td>\n",
              "      <td>0.0</td>\n",
              "      <td>0.0</td>\n",
              "      <td>0.0</td>\n",
              "      <td>0.0</td>\n",
              "      <td>1.0</td>\n",
              "      <td>0</td>\n",
              "      <td>1</td>\n",
              "      <td>1.0</td>\n",
              "      <td>0.0</td>\n",
              "      <td>18</td>\n",
              "      <td>0</td>\n",
              "    </tr>\n",
              "    <tr>\n",
              "      <th>3</th>\n",
              "      <td>1.0</td>\n",
              "      <td>0</td>\n",
              "      <td>27.0</td>\n",
              "      <td>0</td>\n",
              "      <td>0</td>\n",
              "      <td>0</td>\n",
              "      <td>0.0</td>\n",
              "      <td>0.0</td>\n",
              "      <td>0.0</td>\n",
              "      <td>0.0</td>\n",
              "      <td>0.0</td>\n",
              "      <td>0.0</td>\n",
              "      <td>0</td>\n",
              "      <td>0</td>\n",
              "      <td>0.0</td>\n",
              "      <td>0.0</td>\n",
              "      <td>2</td>\n",
              "      <td>0</td>\n",
              "    </tr>\n",
              "    <tr>\n",
              "      <th>4</th>\n",
              "      <td>1.0</td>\n",
              "      <td>0</td>\n",
              "      <td>58.0</td>\n",
              "      <td>0</td>\n",
              "      <td>0</td>\n",
              "      <td>1</td>\n",
              "      <td>1.0</td>\n",
              "      <td>0.0</td>\n",
              "      <td>0.0</td>\n",
              "      <td>1.0</td>\n",
              "      <td>1.0</td>\n",
              "      <td>0.0</td>\n",
              "      <td>0</td>\n",
              "      <td>0</td>\n",
              "      <td>0.0</td>\n",
              "      <td>0.0</td>\n",
              "      <td>25</td>\n",
              "      <td>0</td>\n",
              "    </tr>\n",
              "  </tbody>\n",
              "</table>\n",
              "</div>"
            ],
            "text/plain": [
              "    los  gender   age  age65  fever  anti_use  cepha_use  clinda_use  \\\n",
              "0   2.0       1  54.0      0      0         0        0.0         0.0   \n",
              "1  11.0       0  21.0      0      0         1        1.0         0.0   \n",
              "2   4.0       0  55.0      0      0         0        0.0         0.0   \n",
              "3   1.0       0  27.0      0      0         0        0.0         0.0   \n",
              "4   1.0       0  58.0      0      0         1        1.0         0.0   \n",
              "\n",
              "   penic_use  quino_use  ppi_use  steroid_use  crrt_p  venti  gi_tube  ibd_p  \\\n",
              "0        0.0        0.0      0.0          0.0       0      0      0.0    0.0   \n",
              "1        0.0        1.0      0.0          0.0       0      1      1.0    0.0   \n",
              "2        0.0        0.0      0.0          1.0       0      1      1.0    0.0   \n",
              "3        0.0        0.0      0.0          0.0       0      0      0.0    0.0   \n",
              "4        0.0        1.0      1.0          0.0       0      0      0.0    0.0   \n",
              "\n",
              "   elixhauser_vanwalraven  cdiff_p  \n",
              "0                       5        0  \n",
              "1                      -7        0  \n",
              "2                      18        0  \n",
              "3                       2        0  \n",
              "4                      25        0  "
            ]
          },
          "metadata": {
            "tags": []
          },
          "execution_count": 140
        }
      ]
    },
    {
      "cell_type": "code",
      "metadata": {
        "id": "I6i-VZeclrhW",
        "colab_type": "code",
        "colab": {},
        "outputId": "ef4b27e6-4067-4929-c1aa-73b837ab84c6"
      },
      "source": [
        "X = df.iloc[:,:-1]\n",
        "X = X.to_numpy()\n",
        "y = df.iloc[:,-1]\n",
        "y = y.to_numpy()\n",
        "X.shape"
      ],
      "execution_count": 0,
      "outputs": [
        {
          "output_type": "execute_result",
          "data": {
            "text/plain": [
              "(44599, 19)"
            ]
          },
          "metadata": {
            "tags": []
          },
          "execution_count": 141
        }
      ]
    },
    {
      "cell_type": "code",
      "metadata": {
        "id": "VsaSqi-alrha",
        "colab_type": "code",
        "colab": {},
        "outputId": "bbb26200-1585-4057-b114-0ff36536723c"
      },
      "source": [
        "X_train, X_test, y_train, y_test = train_test_split(X, y, test_size = 0.2, random_state = 50)\n",
        "X_test, X_val, y_test, y_val = train_test_split(X_test, y_test, test_size = 0.5, random_state = 50)\n",
        "print(y_train.mean(), y_val.mean(),y_test.mean())\n",
        "print(X_train.shape, X_val.shape,X_test.shape)\n",
        "#50"
      ],
      "execution_count": 0,
      "outputs": [
        {
          "output_type": "stream",
          "text": [
            "0.01334118108691387 0.01390134529147982 0.014798206278026907\n",
            "(35679, 19) (4460, 19) (4460, 19)\n"
          ],
          "name": "stdout"
        }
      ]
    },
    {
      "cell_type": "code",
      "metadata": {
        "id": "5rJxaG6Xlrhd",
        "colab_type": "code",
        "colab": {},
        "outputId": "f78e57ec-5af4-4acd-8e00-227b2532a0e7"
      },
      "source": [
        "# df_nos\n",
        "X = df_nos.iloc[:,:-1]\n",
        "X_nos = X.to_numpy()\n",
        "y = df_nos.iloc[:,-1]\n",
        "y_nos = y.to_numpy()\n",
        "y.head()"
      ],
      "execution_count": 0,
      "outputs": [
        {
          "output_type": "execute_result",
          "data": {
            "text/plain": [
              "0    0\n",
              "1    0\n",
              "2    0\n",
              "3    0\n",
              "4    0\n",
              "Name: cdiff_p, dtype: int64"
            ]
          },
          "metadata": {
            "tags": []
          },
          "execution_count": 143
        }
      ]
    },
    {
      "cell_type": "code",
      "metadata": {
        "id": "MVujrK7Clrhg",
        "colab_type": "code",
        "colab": {},
        "outputId": "19e4edee-508b-4edb-9d93-57139f910a7b"
      },
      "source": [
        "X_nos_train, X_nos_test, y_nos_train, y_nos_test = train_test_split(X_nos, y_nos, test_size = 0.2, random_state = 50)\n",
        "X_nos_test, X_nos_val, y_nos_test, y_nos_val = train_test_split(X_nos_test, y_nos_test, test_size = 0.5, random_state = 50)\n",
        "print(y_nos_train.mean(), y_nos_val.mean(),y_nos_test.mean())\n",
        "print(X_nos_train.shape, X_nos_val.shape,X_nos_test.shape)\n",
        "#50"
      ],
      "execution_count": 0,
      "outputs": [
        {
          "output_type": "stream",
          "text": [
            "0.01334118108691387 0.01390134529147982 0.014798206278026907\n",
            "(35679, 17) (4460, 17) (4460, 17)\n"
          ],
          "name": "stdout"
        }
      ]
    },
    {
      "cell_type": "code",
      "metadata": {
        "id": "HEiOY_cZlrhj",
        "colab_type": "code",
        "colab": {}
      },
      "source": [
        "#resampling methods\n",
        "def BootstrapData(X, y, n):\n",
        "    \"\"\"\n",
        "    Input X, y: data\n",
        "            n: factor of bootstrapping\n",
        "    Output X_bs, y_bs: bootstrapped data\n",
        "    \"\"\"\n",
        "    \n",
        "    bootStrapSampleIdxs = np.array(random.choices(range(X.shape[0]), k = n*X.shape[0]))\n",
        "    X_bs = X[bootStrapSampleIdxs]\n",
        "    y_bs = y[bootStrapSampleIdxs]\n",
        "    return(X_bs, y_bs)\n",
        "\n",
        "def DownSampling(X, y, n):\n",
        "    \"\"\"\n",
        "    The function downsample the majority group by a factor n\n",
        "    Input X, y: training data\n",
        "            n: factor of fraction\n",
        "    Output X_ds, y_ds: downsampled training set\n",
        "    \"\"\"\n",
        "    p_idx = y == 0\n",
        "    X_major = X[p_idx]\n",
        "    y_major = y[p_idx]\n",
        "    n_idx = y == 1\n",
        "    X_minor = X[n_idx] \n",
        "    y_minor = y[n_idx] \n",
        "    # split data into major and minor group\n",
        "    downsampledIdx = np.array(random.choices(range(X_major.shape[0]), k = round(X_major.shape[0]/n)))\n",
        "    X_major_ds = X[downsampledIdx]\n",
        "    y_major_ds = y[downsampledIdx]\n",
        "    # downsample the major group\n",
        "    X_ds = np.vstack((X_major_ds, X_minor))\n",
        "    y_ds = np.hstack((y_major_ds, y_minor))\n",
        "    # Concat the major and minor group\n",
        "    return(X_ds, y_ds)\n",
        "                                   \n",
        "def UpSampling(X,y,n):\n",
        "    \"\"\"\n",
        "    The function oversample the minor group with bootstrap by a factor n\n",
        "    \n",
        "    \"\"\"\n",
        "    p_idx = y_train == 0\n",
        "    X_major = X_train[p_idx]\n",
        "    y_major = y_train[p_idx]\n",
        "    n_idx = y_train == 1\n",
        "    X_minor = X_train[n_idx] \n",
        "    y_minor = y_train[n_idx] \n",
        "    # split data into major and minor group\n",
        "    X_minor_bs, y_minor_bs = BootstrapData(X_minor, y_minor, n*X_major.shape[0])\n",
        "    # bootstrap the minor group\n",
        "    X_us = np.vstack((X_major, X_minor_bs))\n",
        "    y_us = np.hstack((y_major, y_minor_bs))\n",
        "    return(X_us, y_us)\n",
        "                                   "
      ],
      "execution_count": 0,
      "outputs": []
    },
    {
      "cell_type": "code",
      "metadata": {
        "id": "cx4JSZa0lrhn",
        "colab_type": "code",
        "colab": {}
      },
      "source": [
        "class ensembleClassifier(BaseEstimator, ClassifierMixin):  \n",
        "\n",
        "    def __init__(self, nEstimators, resampling, rs_factor, threshold):\n",
        "        self.nEstimators = nEstimators\n",
        "        self.resampling = resampling\n",
        "        self.rs_factor = rs_factor\n",
        "        self.threshold = threshold\n",
        "\n",
        "    def fit(self, X, y):\n",
        "        \"\"\"\n",
        "        Fits the classifier by fitting all ensemble models on bootstrapped data.\n",
        "        Input:\n",
        "        Input X, y: training data\n",
        "        Output:\n",
        "            self (ensembleClassifier)\n",
        "        \"\"\"\n",
        "        # Fit nEstimators logistic regressions\n",
        "\n",
        "        self.estimators_ = []\n",
        "        for est in tqdm_notebook(range(self.nEstimators)):\n",
        "            X_rs, y_rs = self.resampling(X, y, self.rs_factor)\n",
        "            #print(X_rs.shape, y_rs.shape)\n",
        "            self.model = LogisticRegressionCV(cv=5,penalty='l1', solver='saga',max_iter=2000).fit(X_rs, y_rs)\n",
        "            self.estimators_.append(self.model)\n",
        "\n",
        "        #print(self.estimators_)\n",
        "        return(self)\n",
        "\n",
        "    def predict(self, X):\n",
        "        \"\"\"\n",
        "        Description: For each of your classification models make a class prediction for each \n",
        "            observation. Take an average of all predictions and use a threshold of 0.5 to make a class prediction\n",
        "            to create an overall ensemble prediction.\n",
        "        Input:\n",
        "            X (numpy matrix): A numpy matrix of shape nxm. Can be unseen or seen data.\n",
        "        Output:\n",
        "            predictions (np.array): A numpy array of 1s or 0s indicating a prediction for all\n",
        "                n inputs in X.\n",
        "        \"\"\"\n",
        "        try:\n",
        "            getattr(self, \"estimators_\")\n",
        "        except AttributeError:\n",
        "            raise RuntimeError(\"You're gonna want to train the your estimators first\")\n",
        "        \n",
        "        # Make some predictions\n",
        "        self.avg_yfit = np.zeros(X.shape[0])\n",
        "        self.avg_yprob = np.zeros(X.shape[0])\n",
        "        #print(X.shape)\n",
        "   \n",
        "        for model in self.estimators_: \n",
        "            #yfit = model.predict(X)\n",
        "            #self.avg_yfit += yfit\n",
        "            probs = model.predict_proba(X)\n",
        "            self.avg_yprob += probs[:,1]\n",
        "            #print(self.avg_yprob)\n",
        "            #print(self.avg_yprob.shape)\n",
        "        #self.avg_yfit = self.avg_yfit/self.nEstimators\n",
        "        #b_yfit = self.avg_yfit >=0.5\n",
        "        self.avg_yprob = self.avg_yprob/self.nEstimators\n",
        "        b_yfit = self.avg_yprob >= self.threshold\n",
        "        self.predictions = b_yfit.astype(int)\n",
        "        # End your code\n",
        "        return(self.predictions)\n",
        "\n",
        "    def score(self, X, y):\n",
        "        \"\"\"\n",
        "        Description: Using your prediction function predict the classes for X, and assess performance \n",
        "            against y using accuracy.\n",
        "        Input:\n",
        "            X (numpy matrix): A numpy matrix of shape nxm. Can be unseen or seen data.\n",
        "            y (numpy array): A numpy array of classes with the same number of observations as X\n",
        "        Output:\n",
        "            accuracy (float): a float between 0 and 1 indicating how many elements you predicted the\n",
        "                correct class for\n",
        "        \"\"\"\n",
        "        #print(X.shape)\n",
        "        y_pred = self.predict(X)\n",
        "        self.classification = classification_report(y, y_pred)\n",
        "        self.accuracy = accuracy_score(y, y_pred)\n",
        "        print('Accuracy: ', self.accuracy)\n",
        "        print('Classification report: \\np', self.classification)\n",
        "        #print('Confusion matrix: \\np', confusion_matrix(y_val, y_pred))\n",
        "        mat = confusion_matrix(y, y_pred)\n",
        "        sns.heatmap(mat.T, square=True, annot=True, fmt='d', cbar=False)\n",
        "        plt.xlabel('true label')\n",
        "        plt.ylabel('predicted label')\n",
        "        \n",
        "        return "
      ],
      "execution_count": 0,
      "outputs": []
    },
    {
      "cell_type": "code",
      "metadata": {
        "id": "OzKgRvDYlrhq",
        "colab_type": "code",
        "colab": {
          "referenced_widgets": [
            "0cbc2bb3a1ab48fdb53d4a6210f5cb08"
          ]
        },
        "outputId": "543c88b5-c0f4-460a-9c65-9b4235f0a90f"
      },
      "source": [
        "#Emsemble Logistic Regression\n",
        "LLS = ensembleClassifier(nEstimators = 40, resampling=DownSampling, rs_factor = 40, threshold =0.5)\n",
        "LLS.fit(X = X_train, y = y_train)\n",
        "score = LLS.score(X_test, y_test)\n",
        "score"
      ],
      "execution_count": 0,
      "outputs": [
        {
          "output_type": "display_data",
          "data": {
            "application/vnd.jupyter.widget-view+json": {
              "model_id": "0cbc2bb3a1ab48fdb53d4a6210f5cb08",
              "version_major": 2,
              "version_minor": 0
            },
            "text/plain": [
              "HBox(children=(IntProgress(value=0, max=40), HTML(value='')))"
            ]
          },
          "metadata": {
            "tags": []
          }
        },
        {
          "output_type": "stream",
          "text": [
            "/Users/lhfu/anaconda3/lib/python3.7/site-packages/sklearn/linear_model/sag.py:334: ConvergenceWarning: The max_iter was reached which means the coef_ did not converge\n",
            "  \"the coef_ did not converge\", ConvergenceWarning)\n",
            "/Users/lhfu/anaconda3/lib/python3.7/site-packages/sklearn/linear_model/sag.py:334: ConvergenceWarning: The max_iter was reached which means the coef_ did not converge\n",
            "  \"the coef_ did not converge\", ConvergenceWarning)\n"
          ],
          "name": "stderr"
        },
        {
          "output_type": "stream",
          "text": [
            "Accuracy:  0.842152466367713\n",
            "Classification report: \n",
            "p               precision    recall  f1-score   support\n",
            "\n",
            "           0       0.99      0.84      0.91      4394\n",
            "           1       0.06      0.70      0.12        66\n",
            "\n",
            "   micro avg       0.84      0.84      0.84      4460\n",
            "   macro avg       0.53      0.77      0.51      4460\n",
            "weighted avg       0.98      0.84      0.90      4460\n",
            "\n"
          ],
          "name": "stdout"
        },
        {
          "output_type": "display_data",
          "data": {
            "image/png": "[encoded data removed]",
            "text/plain": [
              "<Figure size 432x288 with 1 Axes>"
            ]
          },
          "metadata": {
            "tags": [],
            "needs_background": "light"
          }
        }
      ]
    },
    {
      "cell_type": "code",
      "metadata": {
        "scrolled": true,
        "id": "CPNaMRaNlrhv",
        "colab_type": "code",
        "colab": {
          "referenced_widgets": [
            "9f7f43d1bdc7497180688ac030eb05f3"
          ]
        },
        "outputId": "a999b843-bfbc-46df-edc8-066a0bd11c72"
      },
      "source": [
        "#Emsemble Logistic Regression without symptoms\n",
        "LLS_nos = ensembleClassifier(nEstimators = 40, resampling=DownSampling, rs_factor = 40, threshold =0.5)\n",
        "LLS_nos.fit(X = X_nos_train, y = y_nos_train)\n",
        "score = LLS_nos.score(X_nos_test, y_nos_test)\n",
        "score"
      ],
      "execution_count": 0,
      "outputs": [
        {
          "output_type": "display_data",
          "data": {
            "application/vnd.jupyter.widget-view+json": {
              "model_id": "9f7f43d1bdc7497180688ac030eb05f3",
              "version_major": 2,
              "version_minor": 0
            },
            "text/plain": [
              "HBox(children=(IntProgress(value=0, max=40), HTML(value='')))"
            ]
          },
          "metadata": {
            "tags": []
          }
        },
        {
          "output_type": "stream",
          "text": [
            "/Users/lhfu/anaconda3/lib/python3.7/site-packages/sklearn/linear_model/sag.py:334: ConvergenceWarning: The max_iter was reached which means the coef_ did not converge\n",
            "  \"the coef_ did not converge\", ConvergenceWarning)\n",
            "/Users/lhfu/anaconda3/lib/python3.7/site-packages/sklearn/linear_model/sag.py:334: ConvergenceWarning: The max_iter was reached which means the coef_ did not converge\n",
            "  \"the coef_ did not converge\", ConvergenceWarning)\n",
            "/Users/lhfu/anaconda3/lib/python3.7/site-packages/sklearn/linear_model/sag.py:334: ConvergenceWarning: The max_iter was reached which means the coef_ did not converge\n",
            "  \"the coef_ did not converge\", ConvergenceWarning)\n",
            "/Users/lhfu/anaconda3/lib/python3.7/site-packages/sklearn/linear_model/sag.py:334: ConvergenceWarning: The max_iter was reached which means the coef_ did not converge\n",
            "  \"the coef_ did not converge\", ConvergenceWarning)\n",
            "/Users/lhfu/anaconda3/lib/python3.7/site-packages/sklearn/linear_model/sag.py:334: ConvergenceWarning: The max_iter was reached which means the coef_ did not converge\n",
            "  \"the coef_ did not converge\", ConvergenceWarning)\n",
            "/Users/lhfu/anaconda3/lib/python3.7/site-packages/sklearn/linear_model/sag.py:334: ConvergenceWarning: The max_iter was reached which means the coef_ did not converge\n",
            "  \"the coef_ did not converge\", ConvergenceWarning)\n",
            "/Users/lhfu/anaconda3/lib/python3.7/site-packages/sklearn/linear_model/sag.py:334: ConvergenceWarning: The max_iter was reached which means the coef_ did not converge\n",
            "  \"the coef_ did not converge\", ConvergenceWarning)\n",
            "/Users/lhfu/anaconda3/lib/python3.7/site-packages/sklearn/linear_model/sag.py:334: ConvergenceWarning: The max_iter was reached which means the coef_ did not converge\n",
            "  \"the coef_ did not converge\", ConvergenceWarning)\n",
            "/Users/lhfu/anaconda3/lib/python3.7/site-packages/sklearn/linear_model/sag.py:334: ConvergenceWarning: The max_iter was reached which means the coef_ did not converge\n",
            "  \"the coef_ did not converge\", ConvergenceWarning)\n",
            "/Users/lhfu/anaconda3/lib/python3.7/site-packages/sklearn/linear_model/sag.py:334: ConvergenceWarning: The max_iter was reached which means the coef_ did not converge\n",
            "  \"the coef_ did not converge\", ConvergenceWarning)\n",
            "/Users/lhfu/anaconda3/lib/python3.7/site-packages/sklearn/linear_model/sag.py:334: ConvergenceWarning: The max_iter was reached which means the coef_ did not converge\n",
            "  \"the coef_ did not converge\", ConvergenceWarning)\n",
            "/Users/lhfu/anaconda3/lib/python3.7/site-packages/sklearn/linear_model/sag.py:334: ConvergenceWarning: The max_iter was reached which means the coef_ did not converge\n",
            "  \"the coef_ did not converge\", ConvergenceWarning)\n",
            "/Users/lhfu/anaconda3/lib/python3.7/site-packages/sklearn/linear_model/sag.py:334: ConvergenceWarning: The max_iter was reached which means the coef_ did not converge\n",
            "  \"the coef_ did not converge\", ConvergenceWarning)\n",
            "/Users/lhfu/anaconda3/lib/python3.7/site-packages/sklearn/linear_model/sag.py:334: ConvergenceWarning: The max_iter was reached which means the coef_ did not converge\n",
            "  \"the coef_ did not converge\", ConvergenceWarning)\n",
            "/Users/lhfu/anaconda3/lib/python3.7/site-packages/sklearn/linear_model/sag.py:334: ConvergenceWarning: The max_iter was reached which means the coef_ did not converge\n",
            "  \"the coef_ did not converge\", ConvergenceWarning)\n",
            "/Users/lhfu/anaconda3/lib/python3.7/site-packages/sklearn/linear_model/sag.py:334: ConvergenceWarning: The max_iter was reached which means the coef_ did not converge\n",
            "  \"the coef_ did not converge\", ConvergenceWarning)\n",
            "/Users/lhfu/anaconda3/lib/python3.7/site-packages/sklearn/linear_model/sag.py:334: ConvergenceWarning: The max_iter was reached which means the coef_ did not converge\n",
            "  \"the coef_ did not converge\", ConvergenceWarning)\n",
            "/Users/lhfu/anaconda3/lib/python3.7/site-packages/sklearn/linear_model/sag.py:334: ConvergenceWarning: The max_iter was reached which means the coef_ did not converge\n",
            "  \"the coef_ did not converge\", ConvergenceWarning)\n",
            "/Users/lhfu/anaconda3/lib/python3.7/site-packages/sklearn/linear_model/sag.py:334: ConvergenceWarning: The max_iter was reached which means the coef_ did not converge\n",
            "  \"the coef_ did not converge\", ConvergenceWarning)\n",
            "/Users/lhfu/anaconda3/lib/python3.7/site-packages/sklearn/linear_model/sag.py:334: ConvergenceWarning: The max_iter was reached which means the coef_ did not converge\n",
            "  \"the coef_ did not converge\", ConvergenceWarning)\n",
            "/Users/lhfu/anaconda3/lib/python3.7/site-packages/sklearn/linear_model/sag.py:334: ConvergenceWarning: The max_iter was reached which means the coef_ did not converge\n",
            "  \"the coef_ did not converge\", ConvergenceWarning)\n",
            "/Users/lhfu/anaconda3/lib/python3.7/site-packages/sklearn/linear_model/sag.py:334: ConvergenceWarning: The max_iter was reached which means the coef_ did not converge\n",
            "  \"the coef_ did not converge\", ConvergenceWarning)\n",
            "/Users/lhfu/anaconda3/lib/python3.7/site-packages/sklearn/linear_model/sag.py:334: ConvergenceWarning: The max_iter was reached which means the coef_ did not converge\n",
            "  \"the coef_ did not converge\", ConvergenceWarning)\n",
            "/Users/lhfu/anaconda3/lib/python3.7/site-packages/sklearn/linear_model/sag.py:334: ConvergenceWarning: The max_iter was reached which means the coef_ did not converge\n",
            "  \"the coef_ did not converge\", ConvergenceWarning)\n",
            "/Users/lhfu/anaconda3/lib/python3.7/site-packages/sklearn/linear_model/sag.py:334: ConvergenceWarning: The max_iter was reached which means the coef_ did not converge\n",
            "  \"the coef_ did not converge\", ConvergenceWarning)\n",
            "/Users/lhfu/anaconda3/lib/python3.7/site-packages/sklearn/linear_model/sag.py:334: ConvergenceWarning: The max_iter was reached which means the coef_ did not converge\n",
            "  \"the coef_ did not converge\", ConvergenceWarning)\n",
            "/Users/lhfu/anaconda3/lib/python3.7/site-packages/sklearn/linear_model/sag.py:334: ConvergenceWarning: The max_iter was reached which means the coef_ did not converge\n",
            "  \"the coef_ did not converge\", ConvergenceWarning)\n",
            "/Users/lhfu/anaconda3/lib/python3.7/site-packages/sklearn/linear_model/sag.py:334: ConvergenceWarning: The max_iter was reached which means the coef_ did not converge\n",
            "  \"the coef_ did not converge\", ConvergenceWarning)\n",
            "/Users/lhfu/anaconda3/lib/python3.7/site-packages/sklearn/linear_model/sag.py:334: ConvergenceWarning: The max_iter was reached which means the coef_ did not converge\n",
            "  \"the coef_ did not converge\", ConvergenceWarning)\n",
            "/Users/lhfu/anaconda3/lib/python3.7/site-packages/sklearn/linear_model/sag.py:334: ConvergenceWarning: The max_iter was reached which means the coef_ did not converge\n",
            "  \"the coef_ did not converge\", ConvergenceWarning)\n",
            "/Users/lhfu/anaconda3/lib/python3.7/site-packages/sklearn/linear_model/sag.py:334: ConvergenceWarning: The max_iter was reached which means the coef_ did not converge\n",
            "  \"the coef_ did not converge\", ConvergenceWarning)\n",
            "/Users/lhfu/anaconda3/lib/python3.7/site-packages/sklearn/linear_model/sag.py:334: ConvergenceWarning: The max_iter was reached which means the coef_ did not converge\n",
            "  \"the coef_ did not converge\", ConvergenceWarning)\n",
            "/Users/lhfu/anaconda3/lib/python3.7/site-packages/sklearn/linear_model/sag.py:334: ConvergenceWarning: The max_iter was reached which means the coef_ did not converge\n",
            "  \"the coef_ did not converge\", ConvergenceWarning)\n",
            "/Users/lhfu/anaconda3/lib/python3.7/site-packages/sklearn/linear_model/sag.py:334: ConvergenceWarning: The max_iter was reached which means the coef_ did not converge\n",
            "  \"the coef_ did not converge\", ConvergenceWarning)\n",
            "/Users/lhfu/anaconda3/lib/python3.7/site-packages/sklearn/linear_model/sag.py:334: ConvergenceWarning: The max_iter was reached which means the coef_ did not converge\n",
            "  \"the coef_ did not converge\", ConvergenceWarning)\n",
            "/Users/lhfu/anaconda3/lib/python3.7/site-packages/sklearn/linear_model/sag.py:334: ConvergenceWarning: The max_iter was reached which means the coef_ did not converge\n",
            "  \"the coef_ did not converge\", ConvergenceWarning)\n",
            "/Users/lhfu/anaconda3/lib/python3.7/site-packages/sklearn/linear_model/sag.py:334: ConvergenceWarning: The max_iter was reached which means the coef_ did not converge\n",
            "  \"the coef_ did not converge\", ConvergenceWarning)\n",
            "/Users/lhfu/anaconda3/lib/python3.7/site-packages/sklearn/linear_model/sag.py:334: ConvergenceWarning: The max_iter was reached which means the coef_ did not converge\n",
            "  \"the coef_ did not converge\", ConvergenceWarning)\n"
          ],
          "name": "stderr"
        },
        {
          "output_type": "stream",
          "text": [
            "/Users/lhfu/anaconda3/lib/python3.7/site-packages/sklearn/linear_model/sag.py:334: ConvergenceWarning: The max_iter was reached which means the coef_ did not converge\n",
            "  \"the coef_ did not converge\", ConvergenceWarning)\n"
          ],
          "name": "stderr"
        },
        {
          "output_type": "stream",
          "text": [
            "Accuracy:  0.8587443946188341\n",
            "Classification report: \n",
            "p               precision    recall  f1-score   support\n",
            "\n",
            "           0       0.99      0.86      0.92      4394\n",
            "           1       0.06      0.58      0.11        66\n",
            "\n",
            "   micro avg       0.86      0.86      0.86      4460\n",
            "   macro avg       0.53      0.72      0.52      4460\n",
            "weighted avg       0.98      0.86      0.91      4460\n",
            "\n"
          ],
          "name": "stdout"
        },
        {
          "output_type": "display_data",
          "data": {
            "image/png": "[encoded data removed]",
            "text/plain": [
              "<Figure size 432x288 with 1 Axes>"
            ]
          },
          "metadata": {
            "tags": [],
            "needs_background": "light"
          }
        }
      ]
    },
    {
      "cell_type": "code",
      "metadata": {
        "id": "etQo51n2lrhx",
        "colab_type": "code",
        "colab": {},
        "outputId": "dd8188be-a049-4fd7-e237-8bca2615a525"
      },
      "source": [
        "#AUC curve function\n",
        "# calculate the fpr and tpr for all thresholds of the classification\n",
        "#probs = model.predict_proba(X_test)\n",
        "y_pred_proba = LLS.avg_yprob\n",
        "y_nos_pred_proba = LLS_nos.avg_yprob\n",
        "fpr, tpr, _ = metrics.roc_curve(y_test,  y_pred_proba)\n",
        "fpr_nos, tpr_nos, _ = metrics.roc_curve(y_test,  y_nos_pred_proba)\n",
        "auc = metrics.roc_auc_score(y_test, y_pred_proba)\n",
        "auc_nos = metrics.roc_auc_score(y_test, y_nos_pred_proba)\n",
        "plt.plot(fpr,tpr,c='b',label=\"LLS full, auc=\"+str(round(auc,3)))\n",
        "plt.plot(fpr_nos,tpr_nos,c='b',linestyle='dashed',label=\"LLS without symp, auc=\"+str(round(auc_nos,3)))\n",
        "plt.legend(loc=4)"
      ],
      "execution_count": 0,
      "outputs": [
        {
          "output_type": "execute_result",
          "data": {
            "text/plain": [
              "<matplotlib.legend.Legend at 0x1a26b3e9e8>"
            ]
          },
          "metadata": {
            "tags": []
          },
          "execution_count": 151
        },
        {
          "output_type": "display_data",
          "data": {
            "image/png": "[encoded data removed]",
            "text/plain": [
              "<Figure size 432x288 with 1 Axes>"
            ]
          },
          "metadata": {
            "tags": [],
            "needs_background": "light"
          }
        }
      ]
    },
    {
      "cell_type": "code",
      "metadata": {
        "id": "7AYNpxD4lrh0",
        "colab_type": "code",
        "colab": {}
      },
      "source": [
        "from sklearn.ensemble import RandomForestClassifier\n",
        "class ensembleClassifier(BaseEstimator, ClassifierMixin):  \n",
        "\n",
        "    def __init__(self, nEstimators, resampling, rs_factor, threshold):\n",
        "        self.nEstimators = nEstimators\n",
        "        self.resampling = resampling\n",
        "        self.rs_factor = rs_factor\n",
        "        self.threshold = threshold\n",
        "\n",
        "    def fit(self, X, y):\n",
        "        \"\"\"\n",
        "        Fits the classifier by fitting all ensemble models on bootstrapped data.\n",
        "        Input:\n",
        "        Input X, y: training data\n",
        "        Output:\n",
        "            self (ensembleClassifier)\n",
        "        \"\"\"\n",
        "        # Fit nEstimators logistic regressions\n",
        "        # Your code here\n",
        "        self.estimators_ = []\n",
        "        for est in tqdm_notebook(range(self.nEstimators)):\n",
        "            X_rs, y_rs = self.resampling(X, y, self.rs_factor)\n",
        "            self.model = RandomForestClassifier(n_estimators=100, max_depth = 5).fit(X_rs, y_rs)\n",
        "            self.estimators_.append(self.model)\n",
        "        # End your code\n",
        "        return(self)\n",
        "\n",
        "    def predict(self, X):\n",
        "        \"\"\"\n",
        "        Description: For each of your classification models make a class prediction for each \n",
        "            observation. Take an average of all predictions and use a threshold of 0.5 to make a class prediction\n",
        "            to create an overall ensemble prediction.\n",
        "        Input:\n",
        "            X (numpy matrix): A numpy matrix of shape nxm. Can be unseen or seen data.\n",
        "        Output:\n",
        "            predictions (np.array): A numpy array of 1s or 0s indicating a prediction for all\n",
        "                n inputs in X.\n",
        "        \"\"\"\n",
        "        try:\n",
        "            getattr(self, \"estimators_\")\n",
        "        except AttributeError:\n",
        "            raise RuntimeError(\"You're gonna want to train the your estimators first\")\n",
        "        \n",
        "        # Make some predictions\n",
        "        self.avg_yfit = np.zeros(X.shape[0])\n",
        "        self.avg_yprob = np.zeros(X.shape[0])\n",
        "        for model in self.estimators_: \n",
        "            #yfit = model.predict(X)\n",
        "            #self.avg_yfit += yfit\n",
        "            probs = model.predict_proba(X)\n",
        "            self.avg_yprob += probs[:,1]\n",
        "            #print(self.avg_yprob)\n",
        "            #print(self.avg_yprob.shape)\n",
        "        #self.avg_yfit = self.avg_yfit/self.nEstimators\n",
        "        #b_yfit = self.avg_yfit >=0.5\n",
        "        self.avg_yprob = self.avg_yprob/self.nEstimators\n",
        "        b_yfit = self.avg_yprob >= self.threshold\n",
        "        self.predictions = b_yfit.astype(int)\n",
        "        # End your code\n",
        "        return(self.predictions)\n",
        "\n",
        "    def score(self, X, y):\n",
        "        \"\"\"\n",
        "        Description: Using your prediction function predict the classes for X, and assess performance \n",
        "            against y using accuracy.\n",
        "        Input:\n",
        "            X (numpy matrix): A numpy matrix of shape nxm. Can be unseen or seen data.\n",
        "            y (numpy array): A numpy array of classes with the same number of observations as X\n",
        "        Output:\n",
        "            accuracy (float): a float between 0 and 1 indicating how many elements you predicted the\n",
        "                correct class for\n",
        "        \"\"\"\n",
        "        y_pred = self.predict(X)\n",
        "        self.classification = classification_report(y, y_pred)\n",
        "        self.accuracy = accuracy_score(y, y_pred)\n",
        "        print('Accuracy: ', self.accuracy)\n",
        "        print('Classification report: \\np', self.classification)\n",
        "        #print('Confusion matrix: \\np', confusion_matrix(y_val, y_pred))\n",
        "        mat = confusion_matrix(y, y_pred)\n",
        "        sns.heatmap(mat.T, square=True, annot=True, fmt='d', cbar=False)\n",
        "        plt.xlabel('true label')\n",
        "        plt.ylabel('predicted label')\n",
        "        \n",
        "        return "
      ],
      "execution_count": 0,
      "outputs": []
    },
    {
      "cell_type": "code",
      "metadata": {
        "id": "ZBShEfZwlrh4",
        "colab_type": "code",
        "colab": {
          "referenced_widgets": [
            "4b0c89fbf65c4af58b51a965bd4b87f2"
          ]
        },
        "outputId": "21571102-7120-4287-9a38-1510f2ab531b"
      },
      "source": [
        "#Random forest classifier with symptoms\n",
        "tree_rf = ensembleClassifier(nEstimators = 40, resampling=DownSampling, rs_factor = 40,threshold =0.5)\n",
        "tree_rf.fit(X = X_train, y = y_train)\n",
        "score = tree_rf.score(X_test, y_test)\n",
        "score"
      ],
      "execution_count": 0,
      "outputs": [
        {
          "output_type": "display_data",
          "data": {
            "application/vnd.jupyter.widget-view+json": {
              "model_id": "4b0c89fbf65c4af58b51a965bd4b87f2",
              "version_major": 2,
              "version_minor": 0
            },
            "text/plain": [
              "HBox(children=(IntProgress(value=0, max=40), HTML(value='')))"
            ]
          },
          "metadata": {
            "tags": []
          }
        },
        {
          "output_type": "stream",
          "text": [
            "Accuracy:  0.8403587443946189\n",
            "Classification report: \n",
            "p               precision    recall  f1-score   support\n",
            "\n",
            "           0       0.99      0.84      0.91      4394\n",
            "           1       0.06      0.71      0.12        66\n",
            "\n",
            "   micro avg       0.84      0.84      0.84      4460\n",
            "   macro avg       0.53      0.78      0.51      4460\n",
            "weighted avg       0.98      0.84      0.90      4460\n",
            "\n"
          ],
          "name": "stdout"
        },
        {
          "output_type": "display_data",
          "data": {
            "image/png": "[encoded data removed]",
            "text/plain": [
              "<Figure size 432x288 with 1 Axes>"
            ]
          },
          "metadata": {
            "tags": [],
            "needs_background": "light"
          }
        }
      ]
    },
    {
      "cell_type": "code",
      "metadata": {
        "id": "eOo18Qydlrh7",
        "colab_type": "code",
        "colab": {
          "referenced_widgets": [
            "dfe06745ba9a458db7f1db15a545569a"
          ]
        },
        "outputId": "35ee6a51-f531-4c9c-a60e-fe11e037b931"
      },
      "source": [
        "#Random forest classifier without symptoms\n",
        "tree_rf_nos = ensembleClassifier(nEstimators = 40, resampling=DownSampling, rs_factor = 40,threshold =0.50)\n",
        "tree_rf_nos.fit(X = X_nos_train, y = y_nos_train)\n",
        "score = tree_rf_nos.score(X_nos_test, y_nos_test)\n",
        "score"
      ],
      "execution_count": 0,
      "outputs": [
        {
          "output_type": "display_data",
          "data": {
            "application/vnd.jupyter.widget-view+json": {
              "model_id": "dfe06745ba9a458db7f1db15a545569a",
              "version_major": 2,
              "version_minor": 0
            },
            "text/plain": [
              "HBox(children=(IntProgress(value=0, max=40), HTML(value='')))"
            ]
          },
          "metadata": {
            "tags": []
          }
        },
        {
          "output_type": "stream",
          "text": [
            "Accuracy:  0.8517937219730942\n",
            "Classification report: \n",
            "p               precision    recall  f1-score   support\n",
            "\n",
            "           0       0.99      0.86      0.92      4394\n",
            "           1       0.06      0.61      0.11        66\n",
            "\n",
            "   micro avg       0.85      0.85      0.85      4460\n",
            "   macro avg       0.53      0.73      0.51      4460\n",
            "weighted avg       0.98      0.85      0.91      4460\n",
            "\n"
          ],
          "name": "stdout"
        },
        {
          "output_type": "display_data",
          "data": {
            "image/png": "[encoded data removed]",
            "text/plain": [
              "<Figure size 432x288 with 1 Axes>"
            ]
          },
          "metadata": {
            "tags": [],
            "needs_background": "light"
          }
        }
      ]
    },
    {
      "cell_type": "code",
      "metadata": {
        "id": "96uF17frlrh-",
        "colab_type": "code",
        "colab": {},
        "outputId": "34c6f359-fdd5-41ea-8546-c49c7d7bed8d"
      },
      "source": [
        "#AUC for rf\n",
        "y_pred_proba = tree_rf.avg_yprob\n",
        "y_nos_pred_proba = tree_rf_nos.avg_yprob\n",
        "fpr, tpr, _ = metrics.roc_curve(y_test,  y_pred_proba)\n",
        "fpr_nos, tpr_nos, _ = metrics.roc_curve(y_test,  y_nos_pred_proba)\n",
        "auc = metrics.roc_auc_score(y_test, y_pred_proba)\n",
        "auc_nos = metrics.roc_auc_score(y_test, y_nos_pred_proba)\n",
        "plt.plot(fpr,tpr,c='r',label=\"RF full, auc=\"+str(round(auc,3)))\n",
        "plt.plot(fpr_nos,tpr_nos,c='r',linestyle='dashed',label=\"RF without symp, auc=\"+str(round(auc_nos,3)))\n",
        "plt.legend(loc=4)"
      ],
      "execution_count": 0,
      "outputs": [
        {
          "output_type": "execute_result",
          "data": {
            "text/plain": [
              "<matplotlib.legend.Legend at 0x1a20e2edd8>"
            ]
          },
          "metadata": {
            "tags": []
          },
          "execution_count": 152
        },
        {
          "output_type": "display_data",
          "data": {
            "image/png": "[encoded data removed]",
            "text/plain": [
              "<Figure size 432x288 with 1 Axes>"
            ]
          },
          "metadata": {
            "tags": [],
            "needs_background": "light"
          }
        }
      ]
    },
    {
      "cell_type": "code",
      "metadata": {
        "id": "OhYQXfwtlriA",
        "colab_type": "code",
        "colab": {}
      },
      "source": [
        "# post hoc for linear\n",
        "fp = X_test[(y_test != tree_rf.predictions) & (tree_rf.predictions == 1)]\n",
        "tp = X_test[(y_test == tree_rf.predictions) & (tree_rf.predictions == 1)]\n",
        "col = ['los','gender','age','age65','major_s','minor_s','fever','anti_use',\n",
        "       'cepha_use','clinda_use','penic_use','quino_use','ppi_use','steroid_use','crrt_p','venti',\n",
        "       'gi_tube','ibd_p','elixhauser_vanwalraven']\n",
        "fp = pd.DataFrame(fp,columns=col)\n",
        "tp = pd.DataFrame(tp,columns=col)\n",
        "fp['cdiff_p']=0\n",
        "tp['cdiff_p']=1\n",
        "predict_a = pd.concat([fp,tp])\n",
        "predict_a.describe()\n",
        "predict_a.to_csv('predict_a.csv')"
      ],
      "execution_count": 0,
      "outputs": []
    },
    {
      "cell_type": "code",
      "metadata": {
        "id": "gKIwfV_SlriD",
        "colab_type": "code",
        "colab": {},
        "outputId": "910c5cb0-363f-447e-c047-262a72cf8bbd"
      },
      "source": [
        "fp.elixhauser_vanwalraven.median()"
      ],
      "execution_count": 0,
      "outputs": [
        {
          "output_type": "execute_result",
          "data": {
            "text/plain": [
              "11.0"
            ]
          },
          "metadata": {
            "tags": []
          },
          "execution_count": 97
        }
      ]
    },
    {
      "cell_type": "code",
      "metadata": {
        "id": "NGntthSClriF",
        "colab_type": "code",
        "colab": {}
      },
      "source": [
        "from sklearn.ensemble import GradientBoostingClassifier\n",
        "class ensembleClassifier(BaseEstimator, ClassifierMixin):  \n",
        "\n",
        "    def __init__(self, nEstimators, resampling, rs_factor, threshold):\n",
        "        self.nEstimators = nEstimators\n",
        "        self.resampling = resampling\n",
        "        self.rs_factor = rs_factor\n",
        "        self.threshold = threshold\n",
        "\n",
        "    def fit(self, X, y):\n",
        "        \"\"\"\n",
        "        Fits the classifier by fitting all ensemble models on bootstrapped data.\n",
        "        Input:\n",
        "        Input X, y: training data\n",
        "        Output:\n",
        "            self (ensembleClassifier)\n",
        "        \"\"\"\n",
        "        # Fit nEstimators logistic regressions\n",
        "        # Your code here\n",
        "        self.estimators_ = []\n",
        "        for est in tqdm_notebook(range(self.nEstimators)):\n",
        "            X_rs, y_rs = self.resampling(X, y, self.rs_factor)\n",
        "            self.model = GradientBoostingClassifier(n_estimators=100, min_samples_leaf = 0.03).fit(X_rs, y_rs)\n",
        "            self.estimators_.append(self.model)\n",
        "        # End your code\n",
        "        return(self)\n",
        "\n",
        "    def predict(self, X):\n",
        "        \"\"\"\n",
        "        Description: For each of your classification models make a class prediction for each \n",
        "            observation. Take an average of all predictions and use a threshold of 0.5 to make a class prediction\n",
        "            to create an overall ensemble prediction.\n",
        "        Input:\n",
        "            X (numpy matrix): A numpy matrix of shape nxm. Can be unseen or seen data.\n",
        "        Output:\n",
        "            predictions (np.array): A numpy array of 1s or 0s indicating a prediction for all\n",
        "                n inputs in X.\n",
        "        \"\"\"\n",
        "        try:\n",
        "            getattr(self, \"estimators_\")\n",
        "        except AttributeError:\n",
        "            raise RuntimeError(\"You're gonna want to train the your estimators first\")\n",
        "        \n",
        "        # Make some predictions\n",
        "        self.avg_yfit = np.zeros(X.shape[0])\n",
        "        self.avg_yprob = np.zeros(X.shape[0])\n",
        "        for model in self.estimators_: \n",
        "            #yfit = model.predict(X)\n",
        "            #self.avg_yfit += yfit\n",
        "            probs = model.predict_proba(X)\n",
        "            self.avg_yprob += probs[:,1]\n",
        "            #print(self.avg_yprob)\n",
        "            #print(self.avg_yprob.shape)\n",
        "        #self.avg_yfit = self.avg_yfit/self.nEstimators\n",
        "        #b_yfit = self.avg_yfit >=0.5\n",
        "        self.avg_yprob = self.avg_yprob/self.nEstimators\n",
        "        b_yfit = self.avg_yprob >= self.threshold\n",
        "        self.predictions = b_yfit.astype(int)\n",
        "        # End your code\n",
        "        return(self.predictions)\n",
        "\n",
        "    def score(self, X, y):\n",
        "        \"\"\"\n",
        "        Description: Using your prediction function predict the classes for X, and assess performance \n",
        "            against y using accuracy.\n",
        "        Input:\n",
        "            X (numpy matrix): A numpy matrix of shape nxm. Can be unseen or seen data.\n",
        "            y (numpy array): A numpy array of classes with the same number of observations as X\n",
        "        Output:\n",
        "            accuracy (float): a float between 0 and 1 indicating how many elements you predicted the\n",
        "                correct class for\n",
        "        \"\"\"\n",
        "        y_pred = self.predict(X)\n",
        "        self.classification = classification_report(y, y_pred)\n",
        "        self.accuracy = accuracy_score(y, y_pred)\n",
        "        print('Accuracy: ', self.accuracy)\n",
        "        print('Classification report: \\np', self.classification)\n",
        "        #print('Confusion matrix: \\np', confusion_matrix(y_val, y_pred))\n",
        "        mat = confusion_matrix(y, y_pred)\n",
        "        sns.heatmap(mat.T, square=True, annot=True, fmt='d', cbar=False)\n",
        "        plt.xlabel('true label')\n",
        "        plt.ylabel('predicted label')\n",
        "        \n",
        "        return "
      ],
      "execution_count": 0,
      "outputs": []
    },
    {
      "cell_type": "code",
      "metadata": {
        "id": "9PoXJnxflriJ",
        "colab_type": "code",
        "colab": {
          "referenced_widgets": [
            "1c9bced6c30245f7a588e9e014c45c2d"
          ]
        },
        "outputId": "390844c1-e8a2-48dc-b1bd-86fec19dc2e9"
      },
      "source": [
        "# Gradient Boosting tree \n",
        "\n",
        "tree_gb = ensembleClassifier(nEstimators = 40, resampling=DownSampling, rs_factor = 40,threshold =0.65)\n",
        "tree_gb.fit(X = X_train, y = y_train)\n",
        "score = tree_gb.score(X_test, y_test)\n",
        "score"
      ],
      "execution_count": 0,
      "outputs": [
        {
          "output_type": "display_data",
          "data": {
            "application/vnd.jupyter.widget-view+json": {
              "model_id": "1c9bced6c30245f7a588e9e014c45c2d",
              "version_major": 2,
              "version_minor": 0
            },
            "text/plain": [
              "HBox(children=(IntProgress(value=0, max=40), HTML(value='')))"
            ]
          },
          "metadata": {
            "tags": []
          }
        },
        {
          "output_type": "stream",
          "text": [
            "Accuracy:  0.9065022421524663\n",
            "Classification report: \n",
            "p               precision    recall  f1-score   support\n",
            "\n",
            "           0       0.99      0.91      0.95      4394\n",
            "           1       0.08      0.53      0.14        66\n",
            "\n",
            "   micro avg       0.91      0.91      0.91      4460\n",
            "   macro avg       0.54      0.72      0.55      4460\n",
            "weighted avg       0.98      0.91      0.94      4460\n",
            "\n"
          ],
          "name": "stdout"
        },
        {
          "output_type": "display_data",
          "data": {
            "image/png": "[encoded data removed]",
            "text/plain": [
              "<Figure size 432x288 with 1 Axes>"
            ]
          },
          "metadata": {
            "tags": [],
            "needs_background": "light"
          }
        }
      ]
    },
    {
      "cell_type": "code",
      "metadata": {
        "id": "gFRVf-nqlriN",
        "colab_type": "code",
        "colab": {
          "referenced_widgets": [
            "e29fe0a6db684ee080c0523e49ed6e1f"
          ]
        },
        "outputId": "bdd26459-6d80-4c39-b67f-050132eb4c89"
      },
      "source": [
        "# Gradient Boosting tree without symptoms\n",
        "tree_gb_nos = ensembleClassifier(nEstimators = 40, resampling=DownSampling, rs_factor = 40,threshold =0.5)\n",
        "tree_gb_nos.fit(X = X_nos_train, y = y_nos_train)\n",
        "score = tree_gb_nos.score(X_nos_test, y_nos_test)\n",
        "score"
      ],
      "execution_count": 0,
      "outputs": [
        {
          "output_type": "display_data",
          "data": {
            "application/vnd.jupyter.widget-view+json": {
              "model_id": "e29fe0a6db684ee080c0523e49ed6e1f",
              "version_major": 2,
              "version_minor": 0
            },
            "text/plain": [
              "HBox(children=(IntProgress(value=0, max=40), HTML(value='')))"
            ]
          },
          "metadata": {
            "tags": []
          }
        },
        {
          "output_type": "stream",
          "text": [
            "Accuracy:  0.8338565022421525\n",
            "Classification report: \n",
            "p               precision    recall  f1-score   support\n",
            "\n",
            "           0       0.99      0.84      0.91      4394\n",
            "           1       0.05      0.59      0.10        66\n",
            "\n",
            "   micro avg       0.83      0.83      0.83      4460\n",
            "   macro avg       0.52      0.71      0.50      4460\n",
            "weighted avg       0.98      0.83      0.90      4460\n",
            "\n"
          ],
          "name": "stdout"
        },
        {
          "output_type": "display_data",
          "data": {
            "image/png": "[encoded data removed]",
            "text/plain": [
              "<Figure size 432x288 with 1 Axes>"
            ]
          },
          "metadata": {
            "tags": [],
            "needs_background": "light"
          }
        }
      ]
    },
    {
      "cell_type": "code",
      "metadata": {
        "id": "GROs8tmMlriQ",
        "colab_type": "code",
        "colab": {},
        "outputId": "477c2cb2-0d70-4734-d259-50b99b6ad4c8"
      },
      "source": [
        "#AUC for gb\n",
        "y_pred_proba = tree_gb.avg_yprob\n",
        "y_nos_pred_proba = tree_gb_nos.avg_yprob\n",
        "fpr, tpr, _ = metrics.roc_curve(y_test,  y_pred_proba)\n",
        "fpr_nos, tpr_nos, _ = metrics.roc_curve(y_test,  y_nos_pred_proba)\n",
        "auc = metrics.roc_auc_score(y_test, y_pred_proba)\n",
        "auc_nos = metrics.roc_auc_score(y_test, y_nos_pred_proba)\n",
        "plt.plot(fpr,tpr,c='g',label=\"GB full, auc=\"+str(round(auc,3)))\n",
        "plt.plot(fpr_nos,tpr_nos,c='g',linestyle='dashed',label=\"GB without symp, auc=\"+str(round(auc_nos,3)))\n",
        "plt.legend(loc=4)"
      ],
      "execution_count": 0,
      "outputs": [
        {
          "output_type": "execute_result",
          "data": {
            "text/plain": [
              "<matplotlib.legend.Legend at 0x1a2698beb8>"
            ]
          },
          "metadata": {
            "tags": []
          },
          "execution_count": 153
        },
        {
          "output_type": "display_data",
          "data": {
            "image/png": "[encoded data removed]",
            "text/plain": [
              "<Figure size 432x288 with 1 Axes>"
            ]
          },
          "metadata": {
            "tags": [],
            "needs_background": "light"
          }
        }
      ]
    },
    {
      "cell_type": "code",
      "metadata": {
        "id": "k6or0u7plriS",
        "colab_type": "code",
        "colab": {}
      },
      "source": [
        "|"
      ],
      "execution_count": 0,
      "outputs": []
    }
  ]
}